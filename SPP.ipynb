{
 "cells": [
  {
   "cell_type": "code",
   "execution_count": 2,
   "id": "12fd61aa-8bf4-4aa7-800a-eb190482c19f",
   "metadata": {},
   "outputs": [],
   "source": [
    " # Step 2: Import Libraries\n",
    "# import sys\n",
    "# !{sys.executable} -m pip install ta\n"
   ]
  },
  {
   "cell_type": "code",
   "execution_count": 3,
   "id": "fabd376e-2fa8-4f76-a64f-349d54772a6f",
   "metadata": {},
   "outputs": [],
   "source": [
    "import numpy as np\n",
    "import pandas as pd\n",
    "import matplotlib.pyplot as plt\n",
    "import yfinance as yf\n",
    "import datetime\n",
    "\n",
    "from sklearn.preprocessing import MinMaxScaler\n",
    "from keras.models import Sequential\n",
    "from keras.layers import LSTM, Dense\n",
    "from ta.momentum import RSIIndicator\n",
    "from ta.trend import EMAIndicator, MACD\n",
    "\n"
   ]
  },
  {
   "cell_type": "code",
   "execution_count": 4,
   "id": "2f6e74ae-aa8d-4287-92b4-ebdf22eef309",
   "metadata": {},
   "outputs": [
    {
     "name": "stderr",
     "output_type": "stream",
     "text": [
      "C:\\Users\\2000s\\AppData\\Local\\Temp\\ipykernel_11624\\1021479335.py:1: FutureWarning: YF.download() has changed argument auto_adjust default to True\n",
      "  df = yf.download('IEX', start='2015-01-01', end='2025-06-30')\n",
      "[*********************100%***********************]  1 of 1 completed\n"
     ]
    }
   ],
   "source": [
    "df = yf.download('IEX', start='2015-01-01', end='2025-06-30')\n",
    "df = df[['Close']].copy()\n",
    "df.reset_index(inplace=True)\n",
    "df.columns = ['Date', 'Close']\n"
   ]
  },
  {
   "cell_type": "code",
   "execution_count": 5,
   "id": "3fff572f-9504-426d-9d4a-572eefb66a6c",
   "metadata": {},
   "outputs": [],
   "source": [
    "df['EMA_20'] = EMAIndicator(df['Close'], window=20).ema_indicator()\n",
    "df['RSI'] = RSIIndicator(df['Close'], window=14).rsi()\n",
    "df['MACD'] = MACD(df['Close']).macd()\n",
    "df.dropna(inplace=True)\n",
    "\n"
   ]
  },
  {
   "cell_type": "code",
   "execution_count": 6,
   "id": "689e7a30-5975-4494-9a40-0f93a022eaf4",
   "metadata": {},
   "outputs": [],
   "source": [
    "scaler = MinMaxScaler()\n",
    "scaled_data = scaler.fit_transform(df[['Close', 'EMA_20', 'RSI', 'MACD']])\n"
   ]
  },
  {
   "cell_type": "code",
   "execution_count": 7,
   "id": "df4c353f-a91a-4ecf-97cc-18d20e024216",
   "metadata": {},
   "outputs": [],
   "source": [
    "x_train, y_train = [], []\n",
    "\n",
    "for i in range(60, len(scaled_data)):\n",
    "    x_train.append(scaled_data[i-60:i])\n",
    "    y_train.append(scaled_data[i, 0])  # 'Close' price\n",
    "\n",
    "x_train, y_train = np.array(x_train), np.array(y_train)\n"
   ]
  },
  {
   "cell_type": "code",
   "execution_count": 8,
   "id": "c285e526-298a-439b-8e22-8c5402ded90f",
   "metadata": {},
   "outputs": [
    {
     "name": "stderr",
     "output_type": "stream",
     "text": [
      "C:\\Users\\2000s\\tfenv\\Lib\\site-packages\\keras\\src\\layers\\rnn\\rnn.py:199: UserWarning: Do not pass an `input_shape`/`input_dim` argument to a layer. When using Sequential models, prefer using an `Input(shape)` object as the first layer in the model instead.\n",
      "  super().__init__(**kwargs)\n"
     ]
    },
    {
     "name": "stdout",
     "output_type": "stream",
     "text": [
      "Epoch 1/10\n",
      "\u001b[1m80/80\u001b[0m \u001b[32m━━━━━━━━━━━━━━━━━━━━\u001b[0m\u001b[37m\u001b[0m \u001b[1m5s\u001b[0m 30ms/step - loss: 0.0243\n",
      "Epoch 2/10\n",
      "\u001b[1m80/80\u001b[0m \u001b[32m━━━━━━━━━━━━━━━━━━━━\u001b[0m\u001b[37m\u001b[0m \u001b[1m3s\u001b[0m 32ms/step - loss: 6.2740e-04\n",
      "Epoch 3/10\n",
      "\u001b[1m80/80\u001b[0m \u001b[32m━━━━━━━━━━━━━━━━━━━━\u001b[0m\u001b[37m\u001b[0m \u001b[1m2s\u001b[0m 28ms/step - loss: 5.2218e-04\n",
      "Epoch 4/10\n",
      "\u001b[1m80/80\u001b[0m \u001b[32m━━━━━━━━━━━━━━━━━━━━\u001b[0m\u001b[37m\u001b[0m \u001b[1m2s\u001b[0m 31ms/step - loss: 5.2175e-04\n",
      "Epoch 5/10\n",
      "\u001b[1m80/80\u001b[0m \u001b[32m━━━━━━━━━━━━━━━━━━━━\u001b[0m\u001b[37m\u001b[0m \u001b[1m2s\u001b[0m 28ms/step - loss: 6.1471e-04\n",
      "Epoch 6/10\n",
      "\u001b[1m80/80\u001b[0m \u001b[32m━━━━━━━━━━━━━━━━━━━━\u001b[0m\u001b[37m\u001b[0m \u001b[1m2s\u001b[0m 31ms/step - loss: 4.8729e-04\n",
      "Epoch 7/10\n",
      "\u001b[1m80/80\u001b[0m \u001b[32m━━━━━━━━━━━━━━━━━━━━\u001b[0m\u001b[37m\u001b[0m \u001b[1m3s\u001b[0m 37ms/step - loss: 4.3933e-04\n",
      "Epoch 8/10\n",
      "\u001b[1m80/80\u001b[0m \u001b[32m━━━━━━━━━━━━━━━━━━━━\u001b[0m\u001b[37m\u001b[0m \u001b[1m3s\u001b[0m 37ms/step - loss: 3.9719e-04\n",
      "Epoch 9/10\n",
      "\u001b[1m80/80\u001b[0m \u001b[32m━━━━━━━━━━━━━━━━━━━━\u001b[0m\u001b[37m\u001b[0m \u001b[1m3s\u001b[0m 34ms/step - loss: 3.6547e-04\n",
      "Epoch 10/10\n",
      "\u001b[1m80/80\u001b[0m \u001b[32m━━━━━━━━━━━━━━━━━━━━\u001b[0m\u001b[37m\u001b[0m \u001b[1m3s\u001b[0m 32ms/step - loss: 3.6495e-04\n"
     ]
    },
    {
     "data": {
      "text/plain": [
       "<keras.src.callbacks.history.History at 0x25f883b0e50>"
      ]
     },
     "execution_count": 8,
     "metadata": {},
     "output_type": "execute_result"
    }
   ],
   "source": [
    "model = Sequential()\n",
    "model.add(LSTM(50, return_sequences=True, input_shape=(x_train.shape[1], 4)))\n",
    "model.add(LSTM(50))\n",
    "model.add(Dense(1))\n",
    "\n",
    "model.compile(optimizer='adam', loss='mean_squared_error')\n",
    "model.fit(x_train, y_train, epochs=10, batch_size=32)\n"
   ]
  },
  {
   "cell_type": "code",
   "execution_count": 10,
   "id": "7f9a2a62-c56e-4a74-ba89-84d123e01e81",
   "metadata": {},
   "outputs": [
    {
     "name": "stderr",
     "output_type": "stream",
     "text": [
      "WARNING:absl:You are saving your model as an HDF5 file via `model.save()` or `keras.saving.save_model(model)`. This file format is considered legacy. We recommend using instead the native Keras format, e.g. `model.save('my_model.keras')` or `keras.saving.save_model(model, 'my_model.keras')`. \n"
     ]
    }
   ],
   "source": [
    " model.save('keras_model.h5')"
   ]
  },
  {
   "cell_type": "code",
   "execution_count": null,
   "id": "77ad0d62-3a57-4815-88d9-590760c4f06f",
   "metadata": {},
   "outputs": [],
   "source": [
    "past_60_days = scaled_data[-60:]\n",
    "future_input = past_60_days.reshape(1, 60, 4)\n"
   ]
  },
  {
   "cell_type": "code",
   "execution_count": null,
   "id": "e0f04788-3117-4993-92d0-6488b9e9def2",
   "metadata": {},
   "outputs": [],
   "source": [
    "future_prices = []\n",
    "input_seq = past_60_days.copy()\n",
    "\n",
    "for _ in range(30):\n",
    "    pred = model.predict(input_seq.reshape(1, 60, 4), verbose=0)\n",
    "    future_prices.append(pred[0][0])\n",
    "\n",
    "    # Fill the remaining 3 features (EMA, RSI, MACD) with previous values\n",
    "    next_input = [pred[0][0], input_seq[-1][1], input_seq[-1][2], input_seq[-1][3]]\n",
    "    input_seq = np.append(input_seq[1:], [next_input], axis=0)\n",
    "\n",
    "# Inverse transform predictions\n",
    "dummy = np.zeros((30, 4))\n",
    "dummy[:, 0] = future_prices\n",
    "predicted_prices_30_days = scaler.inverse_transform(dummy)[:, 0]\n"
   ]
  },
  {
   "cell_type": "code",
   "execution_count": null,
   "id": "13da96ab-ba3c-4b0e-97f8-a09808c0bc76",
   "metadata": {},
   "outputs": [],
   "source": [
    "last_date = df['Date'].iloc[-1]\n",
    "future_dates = [last_date + datetime.timedelta(days=i) for i in range(1, 31)]\n"
   ]
  },
  {
   "cell_type": "code",
   "execution_count": null,
   "id": "bce3d71f-a386-4a19-8424-8829b77a7bcb",
   "metadata": {},
   "outputs": [],
   "source": [
    "train_predictions = model.predict(x_train, verbose=0)\n",
    "train_plot = np.zeros((len(scaled_data), 1))\n",
    "train_plot[60:] = train_predictions\n",
    "\n",
    "train_plot = scaler.inverse_transform(np.hstack([train_plot, scaled_data[:, 1:]]))[:, 0]\n",
    "original_prices = df['Close'].values\n",
    "\n",
    "plt.figure(figsize=(14, 6))\n",
    "plt.plot(df['Date'], original_prices, label='Original Price')\n",
    "plt.plot(df['Date'], train_plot, label='Predicted (Train)', linestyle='--')\n",
    "plt.legend()\n",
    "plt.title('Original Price vs Predicted Price (Train)')\n",
    "plt.xlabel('Date')\n",
    "plt.ylabel('Price (INR)')\n",
    "plt.xticks(rotation=45)\n",
    "plt.tight_layout()\n",
    "plt.show()\n"
   ]
  },
  {
   "cell_type": "code",
   "execution_count": null,
   "id": "224e017d-1d97-4412-aa6d-6f6842f7abf1",
   "metadata": {},
   "outputs": [],
   "source": [
    "plt.figure(figsize=(14, 6))\n",
    "plt.plot(future_dates, predicted_prices_30_days, marker='o', label='Predicted Price (Next 30 days)')\n",
    "plt.title('Stock Price Forecast for Next 30 Days')\n",
    "plt.xlabel('Date')\n",
    "plt.ylabel('Price (INR)')\n",
    "plt.xticks(rotation=45)\n",
    "plt.grid(True)\n",
    "plt.legend()\n",
    "plt.tight_layout()\n",
    "plt.show()\n"
   ]
  },
  {
   "cell_type": "code",
   "execution_count": null,
   "id": "10ee0ca6-c9f7-4632-a313-a5e291a427cd",
   "metadata": {},
   "outputs": [],
   "source": [
    "for date, price in zip(future_dates, predicted_prices_30_days):\n",
    "    print(f\"{date.strftime('%Y-%m-%d')} → ₹{round(price, 2)}\")\n"
   ]
  },
  {
   "cell_type": "code",
   "execution_count": null,
   "id": "916d77ba-3380-4520-bbf5-6217094859bb",
   "metadata": {},
   "outputs": [],
   "source": []
  }
 ],
 "metadata": {
  "kernelspec": {
   "display_name": "Python 3.11 (TensorFlow)",
   "language": "python",
   "name": "tfenv"
  },
  "language_info": {
   "codemirror_mode": {
    "name": "ipython",
    "version": 3
   },
   "file_extension": ".py",
   "mimetype": "text/x-python",
   "name": "python",
   "nbconvert_exporter": "python",
   "pygments_lexer": "ipython3",
   "version": "3.11.9"
  }
 },
 "nbformat": 4,
 "nbformat_minor": 5
}
